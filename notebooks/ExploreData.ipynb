{
 "cells": [
  {
   "cell_type": "markdown",
   "metadata": {},
   "source": [
    "### Data Exploration\n",
    "\n",
    "This notebook explores the pre-processed data, and shows some basic statistics that may be useful.  \n",
    "\n",
    "Before running this notebook, you will need to complete the setup steps in the README.md file located in the root of this repository."
   ]
  },
  {
   "cell_type": "code",
   "execution_count": 50,
   "metadata": {},
   "outputs": [],
   "source": [
    "import pandas as pd\n",
    "from pathlib import Path\n",
    "pd.set_option('max_colwidth',300)"
   ]
  },
  {
   "cell_type": "markdown",
   "metadata": {},
   "source": [
    "### Reading The Data"
   ]
  },
  {
   "cell_type": "markdown",
   "metadata": {},
   "source": [
    "The training data is located in `/resources/data`, which contains approximately 3.2 Million code, comment pairs across the train, validation, and test partitions.  You can learn more about the directory structure and associated files by viewing `/resources/README.md`.\n",
    "\n",
    "The preprocessed data re stored in [json lines](http://jsonlines.org/) format.  First, we can get a list of all these files for further inspection:"
   ]
  },
  {
   "cell_type": "code",
   "execution_count": 86,
   "metadata": {
    "scrolled": false
   },
   "outputs": [],
   "source": [
    "pythonfiles = sorted(Path('../resources/data/python/').glob('**/*.gz'))\n",
    "csharpfiles = sorted(Path('../resources/data/csharp/').glob('**/*.gz'))\n",
    "javafiles = sorted(Path('../resources/data/java/').glob('**/*.gz'))\n",
    "allfiles = pythonfiles + csharpfiles + javafiles"
   ]
  },
  {
   "cell_type": "code",
   "execution_count": 87,
   "metadata": {},
   "outputs": [
    {
     "name": "stdout",
     "output_type": "stream",
     "text": [
      "Total number of files: 3,192\n"
     ]
    }
   ],
   "source": [
    "print(f'Total number of files: {len(allfiles):,}')"
   ]
  },
  {
   "cell_type": "markdown",
   "metadata": {},
   "source": [
    "To make analysis of this dataset easier, we can load all of the data into a pandas dataframe: "
   ]
  },
  {
   "cell_type": "code",
   "execution_count": 80,
   "metadata": {},
   "outputs": [],
   "source": [
    "columns_long_list = ['repo', 'path', 'lineno', 'code', \n",
    "                     'code_tokens', 'docstring', 'docstring_tokens', \n",
    "                     'language', 'partition']\n",
    "\n",
    "columns_short_list = [ 'code_tokens', 'docstring_tokens', \n",
    "                        'language', 'partition']\n",
    "\n",
    "def jsonl_list_to_dataframe(file_list, columns=columns_long_list):\n",
    "    \"Load a list of jsonl.gz files into a pandas DataFrame.\"\n",
    "    return pd.concat([pd.read_json(f, \n",
    "                                   orient='records', \n",
    "                                   compression='gzip',\n",
    "                                   lines=True)[columns] \n",
    "                      for f in file_list], sort=False)"
   ]
  },
  {
   "cell_type": "markdown",
   "metadata": {},
   "source": [
    "This is what the python dataset looks like:"
   ]
  },
  {
   "cell_type": "code",
   "execution_count": 82,
   "metadata": {},
   "outputs": [],
   "source": [
    "pydf = jsonl_list_to_dataframe(pythonfiles)"
   ]
  },
  {
   "cell_type": "code",
   "execution_count": 84,
   "metadata": {},
   "outputs": [
    {
     "data": {
      "text/html": [
       "<div>\n",
       "<style scoped>\n",
       "    .dataframe tbody tr th:only-of-type {\n",
       "        vertical-align: middle;\n",
       "    }\n",
       "\n",
       "    .dataframe tbody tr th {\n",
       "        vertical-align: top;\n",
       "    }\n",
       "\n",
       "    .dataframe thead th {\n",
       "        text-align: right;\n",
       "    }\n",
       "</style>\n",
       "<table border=\"1\" class=\"dataframe\">\n",
       "  <thead>\n",
       "    <tr style=\"text-align: right;\">\n",
       "      <th></th>\n",
       "      <th>repo</th>\n",
       "      <th>path</th>\n",
       "      <th>lineno</th>\n",
       "      <th>code</th>\n",
       "      <th>code_tokens</th>\n",
       "      <th>docstring</th>\n",
       "      <th>docstring_tokens</th>\n",
       "      <th>language</th>\n",
       "      <th>partition</th>\n",
       "    </tr>\n",
       "  </thead>\n",
       "  <tbody>\n",
       "    <tr>\n",
       "      <th>0</th>\n",
       "      <td>samluescher/django-media-tree</td>\n",
       "      <td>media_tree/templatetags/media_tree_tags.py</td>\n",
       "      <td>21</td>\n",
       "      <td>def file_links(items, opts=None):\\n    \"\"\"\"\"\"\\n    result = []\\n    kwargs = get_kwargs_for_file_link(opts)\\n    for item in items:\\n        if isinstance(item, FileNode):\\n            result.append(get_file_link(item, **kwargs))\\n        else:\\n            result.append(file_links(item, kwargs)...</td>\n",
       "      <td>[def, file_links, items, opts, None, \"\"\"\"\"\", result, kwargs, get_kwargs_for_file_link, opts, for, item, in, items, if, isinstance, item, FileNode, result, append, get_file_link, item, kwargs, else, result, append, file_links, item, kwargs, return, result]</td>\n",
       "      <td>Turns a (optionally nested) list of FileNode objects into a list of \\nstrings, linking to the associated files.</td>\n",
       "      <td>[turns, a, (, optionally, nested, ), list, of, filenode, objects, into, a, list, of, strings, linking, to, the, associated, files, .]</td>\n",
       "      <td>python</td>\n",
       "      <td>test</td>\n",
       "    </tr>\n",
       "    <tr>\n",
       "      <th>1</th>\n",
       "      <td>MediaKraken/MediaKraken_Deployment</td>\n",
       "      <td>source/common/common_metadata.py</td>\n",
       "      <td>28</td>\n",
       "      <td>def com_meta_calc_trailer_weight(trailer_file_list, title_name, title_year):\\n    \"\"\"\"\"\"\\n    old_weight = 0\\n    best_match = None\\n    weight = 0\\n    for file_name in trailer_file_list:\\n        weight = 0\\n        if file_name.lower().find('official trailer') != -1:\\n            weight += 3\\...</td>\n",
       "      <td>[def, com_meta_calc_trailer_weight, trailer_file_list, title_name, title_year, \"\"\"\"\"\", old_weight, best_match, None, weight, for, file_name, in, trailer_file_list, weight, if, file_name, lower, find, 'official trailer', weight, if, file_name, lower, find, title_name, lower, weight, if, file_name...</td>\n",
       "      <td>Determine \"weight\" of file to download for trailer</td>\n",
       "      <td>[determine, weight, of, file, to, download, for, trailer]</td>\n",
       "      <td>python</td>\n",
       "      <td>test</td>\n",
       "    </tr>\n",
       "    <tr>\n",
       "      <th>2</th>\n",
       "      <td>jptomo/ansible-connection-nsenter</td>\n",
       "      <td>nsenter.py</td>\n",
       "      <td>44</td>\n",
       "      <td>def _get_container_env(self):\\n    \"\"\"\"\"\"\\n    env_path = '/proc/{}/environ'.format(self._extract_var('Leader'))\\n    env_str = self._exec_command('cat ' + env_path)[2]\\n    proc_envs = env_str.split('\\x00')\\n    proc_envs = dict([x.split('=') for x in proc_envs if x])\\n    return proc_envs\\n</td>\n",
       "      <td>[def, _get_container_env, self, \"\"\"\"\"\", env_path, '/proc/{}/environ', format, self, _extract_var, 'Leader', env_str, self, _exec_command, 'cat ', env_path, proc_envs, env_str, split, '\\x00', proc_envs, dict, x, split, '=', for, x, in, proc_envs, if, x, return, proc_envs]</td>\n",
       "      <td>return container env dict</td>\n",
       "      <td>[return, container, env, dict]</td>\n",
       "      <td>python</td>\n",
       "      <td>test</td>\n",
       "    </tr>\n",
       "  </tbody>\n",
       "</table>\n",
       "</div>"
      ],
      "text/plain": [
       "                                 repo  \\\n",
       "0       samluescher/django-media-tree   \n",
       "1  MediaKraken/MediaKraken_Deployment   \n",
       "2   jptomo/ansible-connection-nsenter   \n",
       "\n",
       "                                         path  lineno  \\\n",
       "0  media_tree/templatetags/media_tree_tags.py      21   \n",
       "1            source/common/common_metadata.py      28   \n",
       "2                                  nsenter.py      44   \n",
       "\n",
       "                                                                                                                                                                                                                                                                                                          code  \\\n",
       "0  def file_links(items, opts=None):\\n    \"\"\"\"\"\"\\n    result = []\\n    kwargs = get_kwargs_for_file_link(opts)\\n    for item in items:\\n        if isinstance(item, FileNode):\\n            result.append(get_file_link(item, **kwargs))\\n        else:\\n            result.append(file_links(item, kwargs)...   \n",
       "1  def com_meta_calc_trailer_weight(trailer_file_list, title_name, title_year):\\n    \"\"\"\"\"\"\\n    old_weight = 0\\n    best_match = None\\n    weight = 0\\n    for file_name in trailer_file_list:\\n        weight = 0\\n        if file_name.lower().find('official trailer') != -1:\\n            weight += 3\\...   \n",
       "2        def _get_container_env(self):\\n    \"\"\"\"\"\"\\n    env_path = '/proc/{}/environ'.format(self._extract_var('Leader'))\\n    env_str = self._exec_command('cat ' + env_path)[2]\\n    proc_envs = env_str.split('\\x00')\\n    proc_envs = dict([x.split('=') for x in proc_envs if x])\\n    return proc_envs\\n   \n",
       "\n",
       "                                                                                                                                                                                                                                                                                                   code_tokens  \\\n",
       "0                                              [def, file_links, items, opts, None, \"\"\"\"\"\", result, kwargs, get_kwargs_for_file_link, opts, for, item, in, items, if, isinstance, item, FileNode, result, append, get_file_link, item, kwargs, else, result, append, file_links, item, kwargs, return, result]   \n",
       "1  [def, com_meta_calc_trailer_weight, trailer_file_list, title_name, title_year, \"\"\"\"\"\", old_weight, best_match, None, weight, for, file_name, in, trailer_file_list, weight, if, file_name, lower, find, 'official trailer', weight, if, file_name, lower, find, title_name, lower, weight, if, file_name...   \n",
       "2                              [def, _get_container_env, self, \"\"\"\"\"\", env_path, '/proc/{}/environ', format, self, _extract_var, 'Leader', env_str, self, _exec_command, 'cat ', env_path, proc_envs, env_str, split, '\\x00', proc_envs, dict, x, split, '=', for, x, in, proc_envs, if, x, return, proc_envs]   \n",
       "\n",
       "                                                                                                         docstring  \\\n",
       "0  Turns a (optionally nested) list of FileNode objects into a list of \\nstrings, linking to the associated files.   \n",
       "1                                                               Determine \"weight\" of file to download for trailer   \n",
       "2                                                                                        return container env dict   \n",
       "\n",
       "                                                                                                                        docstring_tokens  \\\n",
       "0  [turns, a, (, optionally, nested, ), list, of, filenode, objects, into, a, list, of, strings, linking, to, the, associated, files, .]   \n",
       "1                                                                              [determine, weight, of, file, to, download, for, trailer]   \n",
       "2                                                                                                         [return, container, env, dict]   \n",
       "\n",
       "  language partition  \n",
       "0   python      test  \n",
       "1   python      test  \n",
       "2   python      test  "
      ]
     },
     "execution_count": 84,
     "metadata": {},
     "output_type": "execute_result"
    }
   ],
   "source": [
    "pydf.head(3)"
   ]
  },
  {
   "cell_type": "markdown",
   "metadata": {},
   "source": [
    "Two columns that will be heavily used in this dataset are `code_tokens` and `docstring_tokens`, which represent a parallel corpus that can be used for interesting tasks like information retrieval (for example trying to retrieve a codesnippet using the docstring.).  You can find more information regarding the definition of the above columns in the README of this repo. \n",
    "\n",
    "Next, we will read in all of the data for a limited subset of these columns into memory so we can compute summary statistics.  **Warning:** This step takes ~ 20 minutes."
   ]
  },
  {
   "cell_type": "code",
   "execution_count": 88,
   "metadata": {},
   "outputs": [],
   "source": [
    "alldf = jsonl_list_to_dataframe(allfiles, columns_short_list)"
   ]
  },
  {
   "cell_type": "markdown",
   "metadata": {},
   "source": [
    "## Summary Statistics"
   ]
  },
  {
   "cell_type": "markdown",
   "metadata": {},
   "source": [
    "### Row Counts\n",
    "\n",
    "By Partition"
   ]
  },
  {
   "cell_type": "code",
   "execution_count": 90,
   "metadata": {
    "scrolled": true
   },
   "outputs": [
    {
     "data": {
      "text/plain": [
       "train    2060644\n",
       "valid     519851\n",
       "test      516239\n",
       "Name: partition, dtype: int64"
      ]
     },
     "execution_count": 90,
     "metadata": {},
     "output_type": "execute_result"
    }
   ],
   "source": [
    "alldf.partition.value_counts()"
   ]
  },
  {
   "cell_type": "markdown",
   "metadata": {},
   "source": [
    "By Language"
   ]
  },
  {
   "cell_type": "code",
   "execution_count": 96,
   "metadata": {},
   "outputs": [
    {
     "data": {
      "text/plain": [
       "java      1808209\n",
       "python     690299\n",
       "csharp     598226\n",
       "Name: language, dtype: int64"
      ]
     },
     "execution_count": 96,
     "metadata": {},
     "output_type": "execute_result"
    }
   ],
   "source": [
    "alldf.language.value_counts()"
   ]
  },
  {
   "cell_type": "markdown",
   "metadata": {},
   "source": [
    "By Partition & Language"
   ]
  },
  {
   "cell_type": "code",
   "execution_count": 94,
   "metadata": {},
   "outputs": [
    {
     "data": {
      "text/plain": [
       "partition  language\n",
       "test       csharp       100181\n",
       "           java         301584\n",
       "           python       114474\n",
       "train      csharp       396736\n",
       "           java        1203977\n",
       "           python       459931\n",
       "valid      csharp       101309\n",
       "           java         302648\n",
       "           python       115894\n",
       "Name: code_tokens, dtype: int64"
      ]
     },
     "execution_count": 94,
     "metadata": {},
     "output_type": "execute_result"
    }
   ],
   "source": [
    "alldf.groupby(['partition', 'language'])['code_tokens'].count()"
   ]
  },
  {
   "cell_type": "markdown",
   "metadata": {},
   "source": [
    "### Token Lengths By Language"
   ]
  },
  {
   "cell_type": "code",
   "execution_count": 97,
   "metadata": {},
   "outputs": [],
   "source": [
    "alldf['code_len'] = alldf.code_tokens.apply(lambda x: len(x))\n",
    "alldf['query_len'] = alldf.docstring_tokens.apply(lambda x: len(x))"
   ]
  },
  {
   "cell_type": "markdown",
   "metadata": {},
   "source": [
    "#### Code Length Percentile By Language\n",
    "\n",
    "For example, the 80th percentile length for python tokens is 72"
   ]
  },
  {
   "cell_type": "code",
   "execution_count": 98,
   "metadata": {},
   "outputs": [
    {
     "data": {
      "text/html": [
       "<div>\n",
       "<style scoped>\n",
       "    .dataframe tbody tr th:only-of-type {\n",
       "        vertical-align: middle;\n",
       "    }\n",
       "\n",
       "    .dataframe tbody tr th {\n",
       "        vertical-align: top;\n",
       "    }\n",
       "\n",
       "    .dataframe thead th {\n",
       "        text-align: right;\n",
       "    }\n",
       "</style>\n",
       "<table border=\"1\" class=\"dataframe\">\n",
       "  <thead>\n",
       "    <tr style=\"text-align: right;\">\n",
       "      <th></th>\n",
       "      <th></th>\n",
       "      <th>code_len</th>\n",
       "    </tr>\n",
       "    <tr>\n",
       "      <th>language</th>\n",
       "      <th></th>\n",
       "      <th></th>\n",
       "    </tr>\n",
       "  </thead>\n",
       "  <tbody>\n",
       "    <tr>\n",
       "      <th rowspan=\"5\" valign=\"top\">csharp</th>\n",
       "      <th>0.50</th>\n",
       "      <td>77.0</td>\n",
       "    </tr>\n",
       "    <tr>\n",
       "      <th>0.70</th>\n",
       "      <td>120.0</td>\n",
       "    </tr>\n",
       "    <tr>\n",
       "      <th>0.80</th>\n",
       "      <td>164.0</td>\n",
       "    </tr>\n",
       "    <tr>\n",
       "      <th>0.90</th>\n",
       "      <td>273.0</td>\n",
       "    </tr>\n",
       "    <tr>\n",
       "      <th>0.95</th>\n",
       "      <td>479.0</td>\n",
       "    </tr>\n",
       "    <tr>\n",
       "      <th rowspan=\"5\" valign=\"top\">java</th>\n",
       "      <th>0.50</th>\n",
       "      <td>76.0</td>\n",
       "    </tr>\n",
       "    <tr>\n",
       "      <th>0.70</th>\n",
       "      <td>118.0</td>\n",
       "    </tr>\n",
       "    <tr>\n",
       "      <th>0.80</th>\n",
       "      <td>158.0</td>\n",
       "    </tr>\n",
       "    <tr>\n",
       "      <th>0.90</th>\n",
       "      <td>240.0</td>\n",
       "    </tr>\n",
       "    <tr>\n",
       "      <th>0.95</th>\n",
       "      <td>347.0</td>\n",
       "    </tr>\n",
       "    <tr>\n",
       "      <th rowspan=\"5\" valign=\"top\">python</th>\n",
       "      <th>0.50</th>\n",
       "      <td>36.0</td>\n",
       "    </tr>\n",
       "    <tr>\n",
       "      <th>0.70</th>\n",
       "      <td>55.0</td>\n",
       "    </tr>\n",
       "    <tr>\n",
       "      <th>0.80</th>\n",
       "      <td>72.0</td>\n",
       "    </tr>\n",
       "    <tr>\n",
       "      <th>0.90</th>\n",
       "      <td>106.0</td>\n",
       "    </tr>\n",
       "    <tr>\n",
       "      <th>0.95</th>\n",
       "      <td>147.0</td>\n",
       "    </tr>\n",
       "  </tbody>\n",
       "</table>\n",
       "</div>"
      ],
      "text/plain": [
       "               code_len\n",
       "language               \n",
       "csharp   0.50      77.0\n",
       "         0.70     120.0\n",
       "         0.80     164.0\n",
       "         0.90     273.0\n",
       "         0.95     479.0\n",
       "java     0.50      76.0\n",
       "         0.70     118.0\n",
       "         0.80     158.0\n",
       "         0.90     240.0\n",
       "         0.95     347.0\n",
       "python   0.50      36.0\n",
       "         0.70      55.0\n",
       "         0.80      72.0\n",
       "         0.90     106.0\n",
       "         0.95     147.0"
      ]
     },
     "metadata": {},
     "output_type": "display_data"
    }
   ],
   "source": [
    "code_len_summary = alldf.groupby('language')['code_len'].quantile([.5, .7, .8, .9, .95])\n",
    "display(pd.DataFrame(code_len_summary))"
   ]
  },
  {
   "cell_type": "markdown",
   "metadata": {},
   "source": [
    "#### Query Length Percentile By Language\n",
    "\n",
    "For example, the 80th percentile length for python tokens is 19"
   ]
  },
  {
   "cell_type": "code",
   "execution_count": 99,
   "metadata": {},
   "outputs": [
    {
     "data": {
      "text/html": [
       "<div>\n",
       "<style scoped>\n",
       "    .dataframe tbody tr th:only-of-type {\n",
       "        vertical-align: middle;\n",
       "    }\n",
       "\n",
       "    .dataframe tbody tr th {\n",
       "        vertical-align: top;\n",
       "    }\n",
       "\n",
       "    .dataframe thead th {\n",
       "        text-align: right;\n",
       "    }\n",
       "</style>\n",
       "<table border=\"1\" class=\"dataframe\">\n",
       "  <thead>\n",
       "    <tr style=\"text-align: right;\">\n",
       "      <th></th>\n",
       "      <th></th>\n",
       "      <th>query_len</th>\n",
       "    </tr>\n",
       "    <tr>\n",
       "      <th>language</th>\n",
       "      <th></th>\n",
       "      <th></th>\n",
       "    </tr>\n",
       "  </thead>\n",
       "  <tbody>\n",
       "    <tr>\n",
       "      <th rowspan=\"5\" valign=\"top\">csharp</th>\n",
       "      <th>0.50</th>\n",
       "      <td>8.0</td>\n",
       "    </tr>\n",
       "    <tr>\n",
       "      <th>0.70</th>\n",
       "      <td>12.0</td>\n",
       "    </tr>\n",
       "    <tr>\n",
       "      <th>0.80</th>\n",
       "      <td>16.0</td>\n",
       "    </tr>\n",
       "    <tr>\n",
       "      <th>0.90</th>\n",
       "      <td>20.0</td>\n",
       "    </tr>\n",
       "    <tr>\n",
       "      <th>0.95</th>\n",
       "      <td>27.0</td>\n",
       "    </tr>\n",
       "    <tr>\n",
       "      <th rowspan=\"5\" valign=\"top\">java</th>\n",
       "      <th>0.50</th>\n",
       "      <td>11.0</td>\n",
       "    </tr>\n",
       "    <tr>\n",
       "      <th>0.70</th>\n",
       "      <td>16.0</td>\n",
       "    </tr>\n",
       "    <tr>\n",
       "      <th>0.80</th>\n",
       "      <td>22.0</td>\n",
       "    </tr>\n",
       "    <tr>\n",
       "      <th>0.90</th>\n",
       "      <td>34.0</td>\n",
       "    </tr>\n",
       "    <tr>\n",
       "      <th>0.95</th>\n",
       "      <td>48.0</td>\n",
       "    </tr>\n",
       "    <tr>\n",
       "      <th rowspan=\"5\" valign=\"top\">python</th>\n",
       "      <th>0.50</th>\n",
       "      <td>10.0</td>\n",
       "    </tr>\n",
       "    <tr>\n",
       "      <th>0.70</th>\n",
       "      <td>14.0</td>\n",
       "    </tr>\n",
       "    <tr>\n",
       "      <th>0.80</th>\n",
       "      <td>19.0</td>\n",
       "    </tr>\n",
       "    <tr>\n",
       "      <th>0.90</th>\n",
       "      <td>29.0</td>\n",
       "    </tr>\n",
       "    <tr>\n",
       "      <th>0.95</th>\n",
       "      <td>41.0</td>\n",
       "    </tr>\n",
       "  </tbody>\n",
       "</table>\n",
       "</div>"
      ],
      "text/plain": [
       "               query_len\n",
       "language                \n",
       "csharp   0.50        8.0\n",
       "         0.70       12.0\n",
       "         0.80       16.0\n",
       "         0.90       20.0\n",
       "         0.95       27.0\n",
       "java     0.50       11.0\n",
       "         0.70       16.0\n",
       "         0.80       22.0\n",
       "         0.90       34.0\n",
       "         0.95       48.0\n",
       "python   0.50       10.0\n",
       "         0.70       14.0\n",
       "         0.80       19.0\n",
       "         0.90       29.0\n",
       "         0.95       41.0"
      ]
     },
     "metadata": {},
     "output_type": "display_data"
    }
   ],
   "source": [
    "query_len_summary = alldf.groupby('language')['query_len'].quantile([.5, .7, .8, .9, .95])\n",
    "display(pd.DataFrame(query_len_summary))"
   ]
  },
  {
   "cell_type": "markdown",
   "metadata": {},
   "source": [
    "#### Query Length All Languages"
   ]
  },
  {
   "cell_type": "code",
   "execution_count": 100,
   "metadata": {},
   "outputs": [
    {
     "data": {
      "text/html": [
       "<div>\n",
       "<style scoped>\n",
       "    .dataframe tbody tr th:only-of-type {\n",
       "        vertical-align: middle;\n",
       "    }\n",
       "\n",
       "    .dataframe tbody tr th {\n",
       "        vertical-align: top;\n",
       "    }\n",
       "\n",
       "    .dataframe thead th {\n",
       "        text-align: right;\n",
       "    }\n",
       "</style>\n",
       "<table border=\"1\" class=\"dataframe\">\n",
       "  <thead>\n",
       "    <tr style=\"text-align: right;\">\n",
       "      <th></th>\n",
       "      <th>query_len</th>\n",
       "    </tr>\n",
       "  </thead>\n",
       "  <tbody>\n",
       "    <tr>\n",
       "      <th>0.50</th>\n",
       "      <td>10.0</td>\n",
       "    </tr>\n",
       "    <tr>\n",
       "      <th>0.70</th>\n",
       "      <td>15.0</td>\n",
       "    </tr>\n",
       "    <tr>\n",
       "      <th>0.80</th>\n",
       "      <td>20.0</td>\n",
       "    </tr>\n",
       "    <tr>\n",
       "      <th>0.90</th>\n",
       "      <td>30.0</td>\n",
       "    </tr>\n",
       "    <tr>\n",
       "      <th>0.95</th>\n",
       "      <td>43.0</td>\n",
       "    </tr>\n",
       "  </tbody>\n",
       "</table>\n",
       "</div>"
      ],
      "text/plain": [
       "      query_len\n",
       "0.50       10.0\n",
       "0.70       15.0\n",
       "0.80       20.0\n",
       "0.90       30.0\n",
       "0.95       43.0"
      ]
     },
     "metadata": {},
     "output_type": "display_data"
    }
   ],
   "source": [
    "query_len_summary = alldf['query_len'].quantile([.5, .7, .8, .9, .95])\n",
    "display(pd.DataFrame(query_len_summary))"
   ]
  }
 ],
 "metadata": {
  "kernelspec": {
   "display_name": "Python 3",
   "language": "python",
   "name": "python3"
  },
  "language_info": {
   "codemirror_mode": {
    "name": "ipython",
    "version": 3
   },
   "file_extension": ".py",
   "mimetype": "text/x-python",
   "name": "python",
   "nbconvert_exporter": "python",
   "pygments_lexer": "ipython3",
   "version": "3.6.7"
  }
 },
 "nbformat": 4,
 "nbformat_minor": 2
}
